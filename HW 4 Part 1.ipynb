{
 "metadata": {
  "name": ""
 },
 "nbformat": 3,
 "nbformat_minor": 0,
 "worksheets": [
  {
   "cells": [
    {
     "cell_type": "raw",
     "metadata": {},
     "source": [
      "1. \n",
      "SELECT COUNT(DISTINCT shop_id) FROM shops;\n",
      "46426"
     ]
    },
    {
     "cell_type": "raw",
     "metadata": {},
     "source": [
      "2. \n",
      "SELECT AVG(price)/100 FROM listings\n",
      "35.21748183\n",
      "\n",
      "SELECT AVG(price) FROM transactions \n",
      "20.7581"
     ]
    },
    {
     "cell_type": "raw",
     "metadata": {},
     "source": [
      "3.\n",
      "SELECT AVG(price/quantity) FROM transactions\n",
      "20.45055887\n",
      "\n",
      "SELECT AVG(price/quantity) - (SELECT AVG(price)/100 FROM listings) FROM transactions\n",
      "-14.76692296"
     ]
    },
    {
     "cell_type": "raw",
     "metadata": {},
     "source": [
      "4.\n",
      "(Question didn't specify average individual price)\n",
      "SELECT AVG(price)/100 FROM listings WHERE price > 0 AND quantity > 0\n",
      "37.53699025\n",
      "\n",
      "SELECT AVG(price)/100 - (SELECT AVG(price/quantity) FROM transactions) FROM listings WHERE price > 0 AND quantity > 0;\n",
      "17.08643137"
     ]
    },
    {
     "cell_type": "raw",
     "metadata": {},
     "source": [
      "5.\n",
      "SELECT * FROM listings \n",
      "ORDER BY price DESC \n",
      "LIMIT 5\n",
      "\n",
      "listing_id\tuser_id\ttitle\tquantity\tprice\n",
      "929296\t760430\t29406d2767ad6ca606ecdff769c6b8c2\t1\t25000000\n",
      "825605\t168439\t2d968309dd48b94c81e6bd567c61daa2\t20\t3500000\n",
      "149300\t440712\t6d53475a9d96e64a1bfca33b578f0eed\t1\t2000000\n",
      "92558\t594058\te528d0039ebe69bce76e77ac3d0e8021\t1\t1100000\n",
      "65276\t445767\td55aa9aa2c21a0e48c89c59893993025\t50\t1000000\n"
     ]
    },
    {
     "cell_type": "raw",
     "metadata": {},
     "source": [
      "6.\n",
      "SELECT buyer_user_id, COUNT(DISTINCT listing_id) FROM transactions\n",
      "GROUP BY buyer_user_id\n",
      "LIMIT 10\n",
      "\n",
      "buyer_user_id\tcount(listing_id)\n",
      "11\t1\n",
      "21\t1\n",
      "24\t1\n",
      "37\t1\n",
      "51\t1\n",
      "52\t1\n",
      "58\t1\n",
      "59\t1\n",
      "63\t1\n",
      "90\t1\n"
     ]
    },
    {
     "cell_type": "raw",
     "metadata": {},
     "source": [
      "8.\n",
      "SELECT gender, COUNT(*) FROM users\n",
      "GROUP BY gender\n",
      "\n",
      "gender\tcount(*)\n",
      "female\t36052\n",
      "male\t6863\n",
      "private\t52228"
     ]
    },
    {
     "cell_type": "raw",
     "metadata": {},
     "source": [
      "9.\n",
      "SELECT users.gender, COUNT(users.user_id) \n",
      "FROM users JOIN transactions ON user_id = buyer_user_id\n",
      "WHERE transactions.quantity > 0\n",
      "GROUP BY users.gender\n",
      "\n",
      "gender\tcount(users.user_id)\n",
      "female\t3676\n",
      "male\t681\n",
      "private\t5222"
     ]
    },
    {
     "cell_type": "raw",
     "metadata": {},
     "source": [
      "10.\n",
      "Sure. You can use one of Python's database connection libraries to connect to a database and perform join queries. \n",
      "You can then put the results from a SELECT statement into a multidemensional array so as to perform additional analytics"
     ]
    }
   ],
   "metadata": {}
  }
 ]
}