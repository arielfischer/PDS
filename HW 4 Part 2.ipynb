{
 "metadata": {
  "name": ""
 },
 "nbformat": 3,
 "nbformat_minor": 0,
 "worksheets": [
  {
   "cells": [
    {
     "cell_type": "code",
     "collapsed": false,
     "input": [
      "import re\n",
      "haystack = open(\"pds_2012_roster.html\")\n",
      "f = open(\"HW4_AllOut.txt\", 'w')\n",
      "OriginalCount = 0\n",
      "RevisedCount = 0\n",
      "StudentID = \"\"\n",
      "TotalCount = 0"
     ],
     "language": "python",
     "metadata": {},
     "outputs": [],
     "prompt_number": 12
    },
    {
     "cell_type": "markdown",
     "metadata": {},
     "source": [
      "Question 1"
     ]
    },
    {
     "cell_type": "code",
     "collapsed": false,
     "input": [
      "for line in haystack:\n",
      "    result = re.search('(@stern.nyu.edu>)(\\w{1,})', line)\n",
      "    if result:\n",
      "        OriginalCount += 1\n",
      "        StudentID = result.group(2) + '\\n'\n",
      "        f.write(StudentID)\n",
      "haystack.close()\n",
      "f.close()"
     ],
     "language": "python",
     "metadata": {},
     "outputs": [],
     "prompt_number": 13
    },
    {
     "cell_type": "markdown",
     "metadata": {},
     "source": [
      "Question 2"
     ]
    },
    {
     "cell_type": "code",
     "collapsed": false,
     "input": [
      "haystack = open(\"pds_2012_roster.html\")\n",
      "f = open(\"HW4_FilterOut.txt\", 'w')\n",
      "\n",
      "for line in haystack:\n",
      "    result = re.search('(PRACTICAL DATA SCIENCE\\'>)(\\w{1,})', line)\n",
      "    if result:\n",
      "        Lname = result.group(2)\n",
      "\n",
      "    result = re.search('(@stern.nyu.edu>)(\\w{1,})', line)\n",
      "    if result and len(Lname) <= 4:\n",
      "        print Lname\n",
      "        RevisedCount += 1\n",
      "        StudentID = result.group(2) + '\\n'\n",
      "        f.write(StudentID)\n",
      "        \n",
      "f.close()\n",
      "haystack.close()\n",
      "print \"%d people had more than 4 letters in their last name.\" % (OriginalCount - RevisedCount)"
     ],
     "language": "python",
     "metadata": {},
     "outputs": [
      {
       "output_type": "stream",
       "stream": "stdout",
       "text": [
        "Choi\n",
        "Feng\n",
        "Hao\n",
        "Hill\n",
        "Ho\n",
        "Kim\n",
        "Kim\n",
        "Lin\n",
        "Liss\n",
        "Rhyu\n",
        "Saat\n",
        "Shi\n",
        "St\n",
        "Zhu\n",
        "30 people had more than 4 letters in their last name.\n"
       ]
      }
     ],
     "prompt_number": 14
    },
    {
     "cell_type": "markdown",
     "metadata": {},
     "source": [
      "Question 3"
     ]
    },
    {
     "cell_type": "code",
     "collapsed": false,
     "input": [
      "haystack = open(\"pds_2012_roster.html\")\n",
      "\n",
      "for line in haystack:\n",
      "    result = re.search('(PRACTICAL DATA SCIENCE\\'>)(\\w{1,}[.]?\\s?\\w{1,})([,]\\s)(\\w{1,}-?\\w{1,})(\\s?)(\\w?)', line)\n",
      "    if result:\n",
      "        Lname = result.group(2)\n",
      "        Fname = result.group(4)\n",
      "        Mname = result.group(6)\n",
      "        TotalCount += 1\n",
      "\n",
      "    result = re.search('(@stern.nyu.edu>)(\\w{1,})', line)\n",
      "    if result:\n",
      "        StudentID = result.group(2)\n",
      "        print '%s%s\\t%s\\t%s'% (Fname, Mname, Lname, StudentID)\n",
      "haystack.close()\n",
      "\n",
      "print '%d student names printed' % (TotalCount)"
     ],
     "language": "python",
     "metadata": {},
     "outputs": [
      {
       "output_type": "stream",
       "stream": "stdout",
       "text": [
        "AbhishekK\tAiyangar\taka300\n",
        "AntikS\tAvasthi\tasa384\n",
        "SonalS\tBathe\tssb405\n",
        "Aditya\tBhandari\tarb492\n",
        "CorinneM\tCasagrande\tcmc616\n",
        "AnnM\tCedrone\tamc723\n",
        "AlejandroJ\tChahin\tajc591\n",
        "Jaesik\tChoi\tjc4794\n",
        "DavidC\tCohodes\tdcc327\n",
        "Vitalii\tDoban\tvd511\n",
        "Zhengyang\tFeng\tzf309\n",
        "CharlotteR\tGeorge\tcrg272\n",
        "Kelly\tGoldston\tkg1155\n",
        "Jerry\tHao\tjh3347\n",
        "SnehaR\tHarchwani\tsrh371\n",
        "ZelosB\tHill\tzbh203\n",
        "XiasY\tHo\txyh202\n",
        "JosephA\tHooper\tjh924\n",
        "Vamsee\tJasti\tvj384\n",
        "Alex\tJoseph\taj1149\n",
        "DongH\tKim\tdhk332\n",
        "Hyung-Nam\tKim\thnk224\n",
        "AbbyM\tLerner\taml601\n",
        "Liwen\tLin\tll1691\n",
        "AlexanderW\tLiss\tawl270\n",
        "Smriti\tPandey\tsp2710\n",
        "TylerF\tPennell\ttfp211\n",
        "MichaelR\tPeres\tmrp295\n",
        "CraigS\tPerler\tcp1105\n",
        "Suresh\tRangarajan\tsr1927\n",
        "Ashwath\tRavichandran\tar3109\n",
        "JosephH\tRhyu\tjhr320\n",
        "DanielA\tSaat\tdas607\n",
        "Deepa\tSaini\tds3569\n",
        "DouglasJ\tSanto\tdjs507\n",
        "Reshama\tShaikh\trs2715\n",
        "Shenglun\tShi\tss6335\n",
        "Amrish\tSingh\tas6317\n",
        "KevinC\tSt. John\tksj222\n",
        "KurtJ\tStanton\tkjs418\n",
        "BrandonC\tTikalsky\tbct248\n",
        "Sebastian\tVasquez Sanchez\tsvs290\n",
        "RyanJ\tZaczynski\trjz226\n",
        "Jianping\tZhu\tjz996\n",
        "44 student names printed\n"
       ]
      }
     ],
     "prompt_number": 15
    }
   ],
   "metadata": {}
  }
 ]
}