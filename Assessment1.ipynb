{
 "metadata": {
  "name": ""
 },
 "nbformat": 3,
 "nbformat_minor": 0,
 "worksheets": [
  {
   "cells": [
    {
     "cell_type": "code",
     "collapsed": false,
     "input": [
      "import json\n",
      "import matplotlib.pyplot as plt\n",
      "%matplotlib inline\n",
      "import heapq\n",
      "\n",
      "data = []\n",
      "names = []\n",
      "dupe = []\n",
      "count = {}\n",
      "RFA_2F = {}\n",
      "RFA_2A = {}\n",
      "WEALTH_INDEX = []\n",
      "responded = 0\n",
      "RespondedWealth = []\n",
      "NotRespondedWealth = []\n",
      "SortedKeys = []\n",
      "full = []\n",
      "LastName = []\n",
      "number = {}\n",
      "TrackBad = 0\n",
      "TopTen = []\n",
      "\n",
      "def dict_nlargest(d,n):\n",
      "    return heapq.nlargest(n ,d, key = lambda k: d[k])\n",
      "\n",
      "File = open(\"Assessment 1.json\")\n",
      "#File = open(\"C:\\\\Users\\\\Alex\\\\Dropbox\\\\Stern\\\\PDS\\\\short.json\")\n",
      "for line in File:\n",
      "    if line.find(str(-9999), 0, len(line)) != -1:\n",
      "        TrackBad += 1\n",
      "    else:\n",
      "        data.append(json.loads(line))\n",
      "\n",
      "\n",
      "for item in range(0, len(data)):\n",
      "    if any(data[item]['NAME'] in s for s in names):\n",
      "        dupe.append(data[item]['NAME'])\n",
      "    else:\n",
      "        names.append(data[item]['NAME'])  \n",
      "\n",
      "    first = data[item]['RFA_2F']\n",
      "    second = data[item]['RFA_2A']\n",
      "\n",
      "    if first in RFA_2F:\n",
      "        RFA_2F[first] += 1\n",
      "    else:\n",
      "        RFA_2F[first] = 1\n",
      "    if second in RFA_2A:\n",
      "        RFA_2A[second] += 1\n",
      "    else:\n",
      "        RFA_2A[second] = 1\n",
      "    if data[item]['WEALTH_INDEX'] not in WEALTH_INDEX:\n",
      "        WEALTH_INDEX.append(data[item]['WEALTH_INDEX'])\n",
      "    if data[item]['TARGET_B'] == 1:\n",
      "        responded += 1.0\n",
      "        RespondedWealth.append(data[item]['WEALTH_INDEX'])\n",
      "    else:\n",
      "        NotRespondedWealth.append(data[item]['WEALTH_INDEX'])\n",
      "\n",
      "\n",
      "\n"
     ],
     "language": "python",
     "metadata": {},
     "outputs": [],
     "prompt_number": 24
    },
    {
     "cell_type": "markdown",
     "metadata": {},
     "source": [
      "Question A"
     ]
    },
    {
     "cell_type": "raw",
     "metadata": {},
     "source": [
      "The file is a JSON file. In this file, each line is a JSON by itself. \n",
      "It is composed of the following fields:\n",
      "{\"RFA_2F\",\"RFA_2A\",\"TARGET_B\",\"LASTGIFT\",\"AVGGIFT\",\"PEPSTRFL\",\"LASTDATE\",\"WEALTH_INDEX\",\n",
      "\"INCOME\",\"FISTDATE\",\"NAME\"}\n",
      "There are 35274 people"
     ]
    },
    {
     "cell_type": "markdown",
     "metadata": {},
     "source": [
      "Question B"
     ]
    },
    {
     "cell_type": "code",
     "collapsed": false,
     "input": [
      "print 'Number of duplicate names: %s' % len(dupe)\n",
      "print 'Duplicate names: %s' % dupe"
     ],
     "language": "python",
     "metadata": {},
     "outputs": [
      {
       "output_type": "stream",
       "stream": "stdout",
       "text": [
        "Number of duplicate names: 1697\n",
        "Duplicate names: [u'Kurt L. Goldston', u\"Tyler O'Choi\", u'Alexander U. Feng', u'Sonal R. Tikalsky', u'Xias Q. Ho', u'Abhishek Chahin', u'Brandon M. Pandey', u'Ann R. Liss', u'Daniel D. Goldston', u'Liwen G. Doban', u'Joseph S. Choi', u'Michael Q. Lin', u'Alexander U. Tikalsky', u'Smriti Harchwani', u'Abhishek V. Pennell', u'Vamsee Q. Hill', u'Aditya G. Doban', u'Joseph E. Bathe', u'Deepa I. John', u'Ann T. McHo', u'Sneha O. Bhandari', u'Brandon Cohodes', u'Brandon Y. Hao', u'Daniel R. Ravichandran', u'Joseph L. John', u'Vamsee Q. Ravichandran', u'Abby Z. Rangarajan', u'Daniel W. Tikalsky', u'Sebastian McBhandari', u'Michael S. Lerner', u'Amrish X. Casagrande', u\"Michael O'Rhyu\", u'Amrish Hooper', u'Ashwath Q. Feng', u'Michael Pennell', u'Zelos H. Zaczynski', u'Xias T. Bhandari', u'Joseph T. Harchwani', u'Alejandro D. Rhyu', u'Abhishek R. Lin', u'Smriti A. Ho', u'Joseph E. Pennell', u'Shenglun B. Goldston', u'Daniel X. Sanchez', u'Corinne Z. Hao', u'Brandon I. George', u'Hyung N. Choi', u'Ann A. Goldston', u'Abby R. Bathe', u'Alex Ho', u'Joseph Z. Lerner', u'Vitalii Q. Joseph', u'Kevin R. Chahin', u'Aditya K. Zaczynski', u'Ashwath C. Ho', u'Vamsee V. Hao', u'Zhengyang M. Doban', u'Craig Tikalsky', u'Xias G. Rangarajan', u'Deepa U. Zhu', u'Daniel George', u'Aditya E. Choi', u'Charlotte McPennell', u\"Michael O'Singh\", u'Daniel E. Singh', u'Xias Bhandari', u'Tyler Shi', u'Liwen R. George', u'Jaesik McLiss', u\"Sebastian O'Jasti\", u'Jianping R. Shaikh', u'Craig J. Liss', u'Abby U. Ho', u'Antik G. Ravichandran', u'Shenglun G. Feng', u'Ashwath B. Rangarajan', u\"Jaesik O'Jasti\", u'Ann J. Jasti', u'Alex Shi', u'Vamsee U. Saini', u'Ryan V. Joseph', u'Vitalii McHill', u'Sneha Q. Joseph', u'Sebastian M. Ravichandran', u'Jaesik K. Singh', u\"Reshama O'Cohodes\", u'Sebastian Peres', u'Abhishek Aiyangar', u'Tyler Y. Feng', u'Sneha L. Choi', u'Craig V. Shaikh', u'Abhishek L. Ho', u'Tyler Hao', u'Jianping L. Peres', u'Abhishek O. Ho', u'Sonal I. Zaczynski', u'Alex F. Liss', u'Aditya B. Shi', u'Alex Joseph', u'Sebastian J. Kim', u'Ashwath M. Jasti', u'Tyler K. Shi', u'Kelly G. John', u'Jaesik V. Ho', u'Smriti N. Avasthi', u'Douglas George', u'Shenglun F. Doban', u'Amrish N. Rhyu', u'Sneha M. Cohodes', u'Sebastian L. Cohodes', u'Ashwath K. Jasti', u'Brandon H. Singh', u'Kurt K. Kim', u'Ashwath Kim', u'Jaesik Q. Hao', u'Amrish N. Pandey', u\"Antik N. O'Ho\", u'Amrish Y. Hooper', u'Alexander George', u'Suresh O. Cohodes', u'Alex N. Shi', u'Antik F. Peres', u\"Sneha O'Zaczynski\", u'Zhengyang Avasthi', u'Abby N. Pandey', u'Abby K. Chahin', u'David Q. Zaczynski', u'Dong F. Ho', u'Kevin Y. Aiyangar', u'Kevin W. Choi', u'Ashwath F. Stanton', u'Ann Z. Sanchez', u'Alex C. Chahin', u'Sebastian McRavichandran', u'Corinne N. Saat', u'Corinne Aiyangar', u'Sebastian I. Bathe', u'Kelly Q. Zhu', u'Kelly L. Stanton', u'Alejandro S. Tikalsky', u'Brandon L. Saini', u\"Brandon O'Cohodes\", u'Dong E. John', u'Shenglun L. Lin', u'Abby M. Sanchez', u'Corinne X. Ho', u'Hyung George', u'David R. Aiyangar', u'Jaesik U. Cedrone', u'Reshama Ravichandran', u'Charlotte O. Avasthi', u'David A. Kim', u'Smriti I. Hill', u'Kevin V. Cohodes', u'David J. Avasthi', u'Aditya R. Feng', u'Sebastian Aiyangar', u'Aditya Q. Tikalsky', u'Alejandro Ravichandran', u'Alejandro O. Doban', u'Antik Singh', u'Ashwath Ravichandran', u'Jianping Pandey', u'Liwen L. Ho', u'Alexander Feng', u'Amrish P. Lin', u'Alexander S. John', u\"Tyler O'Rangarajan\", u'Xias Q. Saini', u'Abby Choi', u'Zelos Z. Lerner', u'Michael W. Feng', u'Tyler W. Joseph', u'Deepa John', u'Jianping R. Zaczynski', u'Tyler T. Rhyu', u'Alejandro O. Jasti', u'Deepa F. Ravichandran', u'Ashwath F. Chahin', u'Vitalii Pandey', u'Alex Doban', u'Xias Santo', u'Douglas D. Casagrande', u'Vitalii M. Doban', u'Deepa C. Sanchez', u'Vitalii Chahin', u'Joseph L. Ho', u'David P. Aiyangar', u'Tyler McFeng', u'Alexander Hill', u'Ryan L. Stanton', u'Dong Ho', u'Reshama T. Casagrande', u'Craig John', u'Daniel Shi', u'Antik Z. Santo', u'Dong T. Pandey', u'Ann Z. Pennell', u'Jerry I. Casagrande', u'Craig Hao', u'Daniel L. Pandey', u'Liwen M. Zhu', u'Sonal M. Shi', u'Jaesik L. Santo', u'Suresh Rhyu', u'Douglas R. Jasti', u'Aditya Peres', u'Zelos A. Casagrande', u'Joseph J. Pandey', u'Xias M. Peres', u\"Ryan O'Ho\", u'David B. Ho', u'Dong McJasti', u'Craig N. Shi', u'Vamsee Q. Ho', u\"Deepa O'Doban\", u'Amrish L. Bhandari', u'Aditya H. Jasti', u'David F. Zhu', u'Antik U. Shaikh', u'Hyung P. Singh', u'Sonal K. Hooper', u'Charlotte U. Jasti', u'Deepa Doban', u'Tyler Q. Tikalsky', u'Zhengyang K. Doban', u'Sonal E. Ho', u'Suresh D. Pennell', u'Ashwath R. Liss', u'Daniel J. Stanton', u'Reshama V. Shi', u'Alex C. Sanchez', u'Douglas T. Sanchez', u'Alex U. Doban', u'Jaesik X. Casagrande', u'Amrish McLiss', u'Charlotte S. Doban', u'Aditya U. Sanchez', u'Abhishek K. Feng', u'Douglas I. Pennell', u'Abhishek Q. Rangarajan', u'Smriti Avasthi', u'Charlotte D. Peres', u'Jaesik R. Pandey', u'Daniel Ravichandran', u'Alejandro U. Rangarajan', u'Liwen U. Hill', u'Zelos M. Rangarajan', u'Abhishek E. Ho', u'Alejandro Doban', u'Brandon Cedrone', u'Ashwath I. Cedrone', u'Aditya W. Doban', u'Dong Hill', u'Ryan C. Chahin', u'Aditya E. Saini', u'Vitalii Z. Casagrande', u'Tyler Casagrande', u\"Daniel O'Chahin\", u'Smriti McFeng', u'Kevin Santo', u'Reshama Tikalsky', u'Deepa K. Joseph', u'Alejandro O. Pennell', u'Dong Shi', u'Vitalii I. Santo', u'Liwen O. Sanchez', u'Abby K. Ho', u'Corinne M. Bathe', u'Shenglun U. Bhandari', u'Alex Sanchez', u'Suresh L. Ho', u'Kevin McSingh', u'Aditya Harchwani', u'Reshama W. Santo', u'Abby O. Liss', u'Brandon Goldston', u\"Brandon O'John\", u'Brandon D. Shaikh', u'Jerry K. Ho', u'Shenglun O. Joseph', u'Suresh N. Hao', u'Dong J. Casagrande', u'Sneha G. Ho', u'Alejandro G. Stanton', u'Smriti H. Bhandari', u'Aditya W. Choi', u'Smriti Z. Liss', u'Kelly U. Pennell', u'Hyung U. Harchwani', u'Deepa F. Harchwani', u\"Reshama O'Casagrande\", u'Smriti M. Santo', u'Tyler Joseph', u'Sneha K. Hooper', u'Michael I. Rhyu', u'Shenglun O. Saini', u'Kurt T. Tikalsky', u'Shenglun B. Bathe', u'Jaesik Joseph', u'Aditya L. Perler', u'Ann Lin', u'Joseph Q. Kim', u'Xias McShaikh', u'Ryan Sanchez', u'Sonal S. McKim', u'Abhishek N. Bhandari', u'Ashwath F. Ho', u'Craig C. Ravichandran', u'Alex G. Chahin', u'Liwen C. Harchwani', u'Hyung J. Saat', u'Suresh U. Rhyu', u'Alex F. Lin', u'Joseph K. Chahin', u'Brandon E. Harchwani', u'Aditya M. Harchwani', u'Sonal I. Kim', u'Charlotte Q. Ho', u'Kelly Z. Pandey', u'Smriti F. Shi', u'Aditya Z. Kim', u'Amrish H. Perler', u'Abby Q. Choi', u'Alexander Q. Casagrande', u'Jaesik A. Lerner', u'Joseph Rangarajan', u'Zhengyang O. Tikalsky', u'Kevin E. Ho', u'Tyler U. Aiyangar', u'Shenglun M. Joseph', u'Xias B. Perler', u'Corinne T. Lerner', u'Douglas K. Ho', u'Vamsee H. Ho', u'David L. Zhu', u'Hyung O. Pennell', u'Jaesik V. Chahin', u'Kelly E. Ho', u'Hyung Goldston', u'Ryan M. Zhu', u'Zelos W. Ho', u'Tyler D. Singh', u'Suresh A. Hill', u'Jerry Singh', u'Suresh Cedrone', u'Amrish N. Tikalsky', u'Sneha Bathe', u'Sonal L. Saat', u'David H. Tikalsky', u'Kevin O. Pandey', u'Abby Pennell', u'Jaesik Shi', u'Kevin I. Santo', u'Jaesik B. Pandey', u'Jaesik G. Casagrande', u'Joseph P. John', u'Craig S. Shi', u'Corinne Chahin', u'Abhishek S. Bhandari', u'David D. Goldston', u'Shenglun Harchwani', u'Brandon Z. Chahin', u'Joseph A. Hill', u'Michael L. Singh', u'Dong J. John', u\"Michael O'Hao\", u'Sonal Choi', u'Alejandro Q. Lin', u'Alejandro Z. Ho', u'Sneha L. Avasthi', u'Jerry U. Ravichandran', u'Zhengyang N. Chahin', u'Kelly Q. Saini', u'Liwen I. Rangarajan', u'Brandon N. Chahin', u'Suresh Shaikh', u'Corinne X. Saat', u'Jianping A. Shi', u'Shenglun Ho', u'Charlotte Pandey', u'Jianping Z. Stanton', u'Daniel Y. Feng', u'Smriti X. George', u'Dong O. Bathe', u'Abhishek R. Avasthi', u'Kurt N. Pandey', u'Aditya J. Tikalsky', u'Vitalii E. Stanton', u'Dong R. Shi', u'Joseph C. Ho', u'Amrish F. Jasti', u'Michael F. Tikalsky', u'Craig O. Aiyangar', u'Daniel S. Shaikh', u'Sneha K. Ho', u'Brandon Pennell', u\"Brandon O'Liss\", u'Liwen T. Lin', u'Sebastian D. Ho', u'Vitalii Bathe', u'Abby W. Hooper', u'Amrish A. Bathe', u'Alex F. Harchwani', u'Joseph Y. Ho', u'Jaesik K. Doban', u'Suresh Sanchez', u'Abhishek Hao', u'Brandon E. Joseph', u'Craig Doban', u'Alejandro M. Perler', u'Zelos Harchwani', u'Jianping Hao', u'Abby V. Cohodes', u'Vamsee B. Rhyu', u'Ryan E. Singh', u'Sonal McPeres', u'Aditya M. Hao', u'Alex Q. Rhyu', u'Tyler Liss', u'Deepa Hill', u'Liwen D. Shaikh', u'Douglas Saat', u'Antik M. Chahin', u'Alejandro E. Liss', u'Kelly Ho', u'Ann R. Doban', u'Abhishek K. Ho', u'Jerry A. George', u'Sebastian Cedrone', u'Reshama Q. Pennell', u'Zhengyang Perler', u'Dong D. Cohodes', u'Vamsee Ho', u'Craig F. Saini', u'Craig McShaikh', u'Suresh B. Kim', u'Vamsee X. Ho', u'Ann E. Ho', u'Zhengyang N. Bathe', u'Jaesik D. Hill', u'Kurt Hao', u\"Deepa F. O'Ho\", u'Ann P. Bathe', u'Brandon S. Perler', u'Ashwath U. Zaczynski', u'Ann L. Hill', u'Tyler L. George', u'Sonal E. Zaczynski', u'Liwen K. Sanchez', u'Charlotte I. Feng', u'Zelos V. Lin', u'Michael D. Ho', u'Kevin R. Saat', u'Xias Bathe', u'Jerry G. Tikalsky', u'Corinne Z. Lerner', u'Deepa George', u'Suresh K. Hooper', u'Reshama J. Casagrande', u'Sneha F. Perler', u'Xias Stanton', u'Daniel Singh', u'Xias Peres', u'Smriti Cohodes', u'Tyler D. Joseph', u'Ann Saat', u'Reshama X. Cohodes', u\"Ann O'Hooper\", u'Ryan Q. Goldston', u'Dong Z. Sanchez', u'David X. Doban', u'Jerry T. John', u'Deepa A. Doban', u'Sneha A. Choi', u'Liwen L. Lin', u'Jianping S. Feng', u'Joseph H. John', u'Brandon A. Jasti', u'Reshama A. Pennell', u'Corinne A. George', u'Alex McLin', u'Brandon N. Hao', u'Daniel V. Ho', u'Smriti I. Stanton', u'Antik W. Ravichandran', u'David W. Avasthi', u'Suresh P. Cohodes', u'Tyler D. Kim', u'Xias F. Avasthi', u'Abby E. Zhu', u'Joseph E. Cohodes', u'Reshama A. John', u'Jerry John', u'Jaesik Z. Liss', u'David C. John', u'Daniel L. Hill', u'Reshama K. Avasthi', u'Tyler Q. Shaikh', u'Zhengyang E. John', u'Suresh Goldston', u'Smriti V. George', u'Tyler D. Pennell', u'Sneha S. Bhandari', u'Alexander Q. Cohodes', u'Liwen N. Ho', u'Jianping U. Doban', u\"Ann O'Sanchez\", u'Sebastian X. Kim', u'Abby B. Lerner', u'Daniel P. Zaczynski', u'Joseph C. Zhu', u'Jerry Avasthi', u'Sneha P. George', u'Michael B. Zhu', u'Sneha I. Tikalsky', u'Aditya Joseph', u'Joseph B. Casagrande', u'Daniel Zhu', u'Jaesik B. Jasti', u'Kurt Sanchez', u'Abby Q. Bathe', u'Sebastian V. Santo', u'Daniel T. Hooper', u'Deepa B. Singh', u'Suresh Z. McHooper', u'Corinne Y. Perler', u'Suresh D. Ho', u'Sonal O. John', u'Hyung H. Perler', u'Sonal X. John', u'Ann Hao', u'David D. Sanchez', u\"Kurt O'Pandey\", u'Alex K. Rangarajan', u'Sonal G. Zhu', u'Vamsee J. Harchwani', u'Amrish E. Kim', u'Sebastian McHooper', u'Vamsee U. Choi', u'Charlotte W. Jasti', u'Corinne Jasti', u'Deepa R. Cedrone', u'Vitalii Liss', u'Shenglun McCasagrande', u'Vitalii Perler', u'Brandon Z. Bathe', u'Douglas E. Choi', u'Ashwath V. Santo', u'Abhishek T. Shaikh', u'Joseph K. Perler', u'Reshama G. Aiyangar', u'Reshama V. George', u'David P. Cedrone', u'Joseph L. Choi', u'Joseph T. Liss', u'Tyler U. Ho', u'Amrish U. Joseph', u'Ashwath Y. Hill', u'David McSanchez', u'Aditya John', u'Amrish P. Santo', u'Aditya I. Bathe', u'Amrish W. Bathe', u'Charlotte M. Singh', u'Shenglun G. Bhandari', u'Brandon A. George', u'Kelly V. Bathe', u'Xias H. Hao', u'Xias McPennell', u'Alejandro W. Shaikh', u'Hyung V. George', u'Alexander M. Lerner', u'Douglas I. John', u\"Kurt O'Liss\", u'Charlotte McZhu', u'Hyung M. Jasti', u'Ryan P. Lin', u'Abhishek V. Bhandari', u\"Daniel B. O'Santo\", u\"Sneha K. O'Hooper\", u\"Liwen O'Lin\", u'Craig S. Feng', u'Xias Goldston', u'Zelos W. Hao', u'Jerry Z. Goldston', u'Jaesik Y. Zhu', u'Reshama L. Bhandari', u'Craig J. Hao', u'Daniel Aiyangar', u'Amrish McHo', u'Abby Singh', u'Liwen O. George', u'Daniel I. Hill', u'Shenglun X. Ho', u'Vamsee O. Rhyu', u'Liwen X. Chahin', u\"Douglas O'Casagrande\", u'Ann B. Ho', u'Jerry I. Joseph', u\"Alex O'Singh\", u'Daniel Tikalsky', u'Hyung M. Avasthi', u\"Smriti O'Hill\", u'Liwen U. Ho', u'Douglas Ho', u'Zhengyang K. Ho', u'Aditya Shi', u'Jaesik O. Shi', u'Dong A. Chahin', u'Kelly S. Lin', u'Kevin Ho', u'Ashwath L. Shaikh', u'Abby Z. Saat', u'Zhengyang McLerner', u'Abby I. Harchwani', u'Ryan I. Goldston', u'Alexander McSanchez', u\"Jerry O'Lin\", u'Tyler Goldston', u'Reshama W. Kim', u'Corinne J. Stanton', u'Antik V. Rangarajan', u'Vitalii T. Ho', u'Deepa P. Chahin', u'Aditya O. Ho', u'Alejandro Chahin', u'Sneha T. Hill', u'Jaesik M. Lerner', u'Xias P. Perler', u'Kurt Lin', u'Zhengyang D. Lerner', u'Michael Singh', u'Shenglun S. Ho', u'Alex C. Shaikh', u'Abby A. Ho', u'Jerry O. Sanchez', u'Alex X. Stanton', u'Antik George', u'Suresh T. Joseph', u'Alexander Singh', u'Brandon H. Ho', u'Antik McHo', u'Jaesik G. Bathe', u'Craig P. Harchwani', u'Ann Ho', u'Michael K. Lerner', u'Kelly W. Ho', u'Alexander B. Stanton', u'Daniel C. Shaikh', u'Sebastian McCasagrande', u'Jerry I. George', u'Kevin B. Harchwani', u'Alejandro Bathe', u'Shenglun P. Goldston', u'Ryan I. Saini', u'Liwen L. Cedrone', u\"Tyler O'Ho\", u'David P. Avasthi', u'Dong U. Choi', u'Corinne S. Goldston', u'Ryan D. Ho', u'Alexander L. Ho', u'Alejandro S. Kim', u'Alex Rhyu', u'Vamsee F. Goldston', u'Vamsee H. Hooper', u'Amrish A. Tikalsky', u'Suresh H. Perler', u'Sneha L. Ho', u'Shenglun W. Doban', u'Alejandro X. Aiyangar', u'Sneha J. Ho', u'Vitalii M. Bathe', u\"Tyler F. O'Rangarajan\", u'Alex L. Goldston', u'Jaesik Pandey', u'Kurt F. Shi', u'Kevin W. George', u'Liwen M. Rangarajan', u'Antik Z. Ho', u'Reshama Casagrande', u'Jerry I. Tikalsky', u'Zelos F. Hooper', u'Xias C. Saini', u'Tyler B. Saini', u'Vamsee V. Saat', u'Craig W. Kim', u'Michael P. Ho', u'Jaesik E. Harchwani', u'Alexander C. McPennell', u'Sneha McJoseph', u'Reshama W. Hao', u'Suresh P. Ho', u'Vamsee McGoldston', u'Kevin Z. Zhu', u'Ashwath McRavichandran', u'Sneha Z. Feng', u'Sonal B. Rangarajan', u'Kevin V. Cedrone', u'Alexander N. Cedrone', u'Charlotte W. Shaikh', u'Tyler N. Saini', u'Sonal E. Avasthi', u'Vamsee C. Jasti', u'Jaesik Z. Feng', u'Vamsee C. Aiyangar', u'Xias K. Liss', u'Abby Pandey', u'Xias Zaczynski', u'Hyung R. Pennell', u'Sebastian U. Ravichandran', u'Corinne C. Hill', u'Charlotte McCohodes', u'Alejandro V. Harchwani', u'Michael U. Lin', u'Liwen I. Doban', u'Charlotte D. Goldston', u'Sneha C. Saat', u'Smriti V. Joseph', u'Tyler T. Zaczynski', u'Kurt Y. Doban', u'Jerry P. Cedrone', u\"Jaesik O'Chahin\", u'Hyung F. Doban', u'Zhengyang K. Shi', u'Amrish M. Pennell', u'Douglas K. Zhu', u'Kevin V. Jasti', u\"Jaesik O. O'Ho\", u'Joseph H. Feng', u'David U. Shaikh', u\"Abhishek O'John\", u'Antik Peres', u'Craig R. Doban', u'Ashwath S. Doban', u'Joseph L. Kim', u'Suresh X. Joseph', u'Kevin Q. Avasthi', u\"Michael O'Lerner\", u'Joseph Singh', u\"Douglas O'John\", u'Deepa Shi', u'Suresh B. Pandey', u'Liwen McSaini', u'Xias U. Liss', u\"Sebastian O'Kim\", u'Jerry O. McLiss', u'Charlotte X. Peres', u'Jerry G. Choi', u'Ann L. Lin', u'Kelly Sanchez', u'Xias R. Bathe', u'Hyung V. Jasti', u'Dong Tikalsky', u'Daniel S. Lerner', u'Xias J. Lerner', u'Tyler U. Casagrande', u'Dong T. Chahin', u'Ashwath B. Shi', u'Reshama H. Lerner', u'Corinne Hao', u'Abby X. Zaczynski', u'Kurt H. Ho', u'Zelos McJasti', u'Zhengyang X. Ho', u'Joseph V. Ho', u'Xias Z. Chahin', u'Tyler K. Sanchez', u'Hyung I. Cedrone', u'Kevin J. Kim', u'David P. Perler', u'Charlotte Q. Cohodes', u'Brandon Z. John', u'Reshama F. Hill', u\"Sebastian O'Sanchez\", u'Jianping Kim', u'Alex D. Liss', u'David J. John', u'Hyung L. Zaczynski', u\"Douglas O'Pennell\", u'Hyung Peres', u'Alexander Saat', u\"Liwen O'Chahin\", u'Daniel Bathe', u'Kelly A. Kim', u'Hyung L. Tikalsky', u'Dong P. Liss', u'Abhishek F. Singh', u'Liwen B. Kim', u'Michael R. Saat', u'Abhishek K. Jasti', u'Kurt Z. Zaczynski', u'Reshama H. Ho', u'Zelos W. Jasti', u'Smriti B. Peres', u'Sonal Q. Hill', u'Jaesik Pennell', u'Jianping T. Lerner', u'Zhengyang W. Lerner', u'Joseph U. Feng', u'Jerry Q. Doban', u'Amrish R. Kim', u'Sonal A. Ho', u'Zhengyang Q. Casagrande', u'Daniel Sanchez', u'Corinne J. Saini', u'Alex W. Shi', u'Abby Aiyangar', u'Sneha Zaczynski', u'Alex O. George', u'Shenglun W. Bhandari', u'Amrish R. Chahin', u'Antik S. Ho', u'Amrish Avasthi', u'Xias C. Pandey', u'Abhishek H. Ho', u'Abhishek R. Ho', u'Amrish Q. Hill', u'Michael F. Peres', u'Zhengyang H. Ho', u'Ashwath U. Bathe', u'Alex T. Jasti', u'Alexander R. Jasti', u'Jerry X. Ho', u'Deepa B. Saini', u'Alejandro D. Choi', u'Vamsee N. Santo', u'Ryan L. Cohodes', u'Aditya Pandey', u'Brandon V. George', u'Liwen Y. Hao', u'Alex L. Aiyangar', u'Alex M. Perler', u'Ann C. Perler', u'Jianping Jasti', u'Liwen McFeng', u'Alejandro P. Avasthi', u\"Kelly O. O'Ho\", u'David U. Saat', u'Tyler R. Perler', u'Abhishek K. Ravichandran', u'Jerry U. Hao', u'Craig B. Feng', u'Ryan M. John', u'Kevin F. Ho', u'Abhishek Q. Zaczynski', u'Reshama T. Hill', u'Alejandro U. George', u'Alex W. Bhandari', u'Ann O. Shi', u'Jerry Peres', u'Kevin D. Liss', u'Kelly E. Kim', u'Reshama Goldston', u'Ashwath U. Choi', u'Craig B. Chahin', u'Jianping H. Goldston', u'Douglas I. Cohodes', u'Sonal P. Bathe', u'Craig Liss', u'Suresh McChoi', u\"Deepa O'Shaikh\", u'Ashwath Y. Aiyangar', u'Alexander X. Kim', u'Ashwath U. Goldston', u\"Michael O'Goldston\", u'Ashwath R. Cohodes', u'Charlotte G. Cohodes', u'Ryan K. Chahin', u'Corinne G. Santo', u'Craig M. Hill', u'Kevin Q. Shi', u'Ann Goldston', u'Joseph U. Rangarajan', u'Jianping C. Cohodes', u'Zelos Hao', u'Amrish X. Sanchez', u'Sebastian J. Lin', u'Shenglun Y. Peres', u'Brandon G. Joseph', u'Douglas Peres', u'Dong U. Zaczynski', u'Zhengyang S. Singh', u'Brandon Z. Casagrande', u'Shenglun V. Ravichandran', u'Aditya V. Singh', u'Joseph B. Cohodes', u'Dong C. Ravichandran', u'Jerry C. Doban', u'Xias U. Ho', u'Corinne L. Ravichandran', u'Ann Y. Hooper', u'Aditya F. Ho', u'Zhengyang K. Casagrande', u'Daniel Harchwani', u'Zhengyang B. Rangarajan', u'Shenglun Liss', u'Jaesik McZaczynski', u'Douglas Perler', u'Craig D. Joseph', u'Zhengyang R. Aiyangar', u'Abhishek S. Doban', u'Aditya S. Zaczynski', u'Jianping F. Kim', u'Kevin W. John', u'Kevin R. Rhyu', u'Alexander J. Shaikh', u'Abhishek R. Shi', u'Jianping Ho', u'Sebastian Bathe', u'Antik Saat', u'Jaesik L. Shaikh', u'Abby T. Hill', u'Alejandro C. Santo', u'Smriti A. George', u'Amrish M. Cohodes', u'Joseph R. Singh', u'Liwen McLerner', u'Corinne Choi', u'Vamsee T. Tikalsky', u'Vamsee F. Sanchez', u'Sonal M. Cohodes', u'Tyler O. Ravichandran', u'Jianping S. Peres', u'Vitalii Q. Casagrande', u'Sneha Tikalsky', u'Charlotte F. Rhyu', u'Corinne T. Sanchez', u'Antik Hao', u'Jaesik X. Avasthi', u'Alex B. Saat', u'Zhengyang U. Perler', u'Sneha McKim', u'Vitalii McRangarajan', u'Dong J. Goldston', u'Reshama B. Doban', u'Tyler Bathe', u'Amrish N. Jasti', u'Liwen Saat', u'Ann Y. Zhu', u'Sonal X. Ravichandran', u'Jianping Harchwani', u'Suresh Z. McHo', u'Joseph Bhandari', u'Charlotte O. Pennell', u'Charlotte Lerner', u'Jaesik F. Zaczynski', u'Daniel L. Bhandari', u'Smriti K. Ho', u'Sebastian P. Doban', u'Sneha N. Casagrande', u'Alejandro I. Lerner', u'Craig S. Bhandari', u'Charlotte McStanton', u'Jianping C. Kim', u'Vitalii X. Cohodes', u'Smriti T. Ho', u'Tyler R. Feng', u\"Michael O'Hill\", u'Liwen Shi', u'Vitalii S. John', u'Ashwath McHooper', u'Hyung X. Choi', u'Shenglun X. Bhandari', u'Dong E. Tikalsky', u'Shenglun McPerler', u'Reshama Rangarajan', u'Sonal Z. Harchwani', u'Aditya K. Ho', u'Kelly Y. Stanton', u'Michael K. Liss', u'Craig O. Stanton', u'Sonal U. Chahin', u'Antik F. Bathe', u\"Amrish O'Chahin\", u'Vamsee Joseph', u'Sonal Doban', u'Zhengyang C. Doban', u'Ryan J. Pennell', u'Vamsee E. Kim', u'Ann K. Hao', u'Daniel J. Doban', u'Sneha G. Harchwani', u'Sneha D. Goldston', u'Ashwath G. Rangarajan', u'Xias O. Cohodes', u'Antik Avasthi', u'Hyung Z. Peres', u'Reshama Santo', u'Sonal Joseph', u'Joseph V. Shi', u'Vitalii K. Goldston', u'Tyler Y. Ho', u'Hyung D. Stanton', u'Kurt A. Peres', u'Abhishek N. Perler', u'Corinne Pandey', u'Deepa K. Lin', u'Ashwath Saat', u'Vamsee Z. McSingh', u'Joseph Aiyangar', u'Kurt O. Peres', u'Suresh O. Chahin', u'Abby H. Chahin', u'Shenglun N. Ho', u'Sonal L. Ho', u'Douglas X. Sanchez', u'Shenglun D. Hooper', u'Daniel W. Choi', u'Deepa O. Chahin', u'Hyung Chahin', u'Zhengyang R. Peres', u'Shenglun R. Peres', u'Reshama T. John', u'Charlotte I. Kim', u'Joseph Feng', u'Alejandro D. Lerner', u'David W. Liss', u'Jianping F. Zaczynski', u'Tyler S. Singh', u'Abhishek R. Joseph', u'Sneha D. Casagrande', u'Ryan N. Chahin', u'Vitalii G. Saat', u'Sonal V. Hill', u'Deepa N. Saini', u'Sneha Q. Cohodes', u'Liwen Z. Sanchez', u'Sebastian McSaat', u'Michael X. Ho', u'Charlotte B. Bhandari', u'Antik Q. Bhandari', u'Daniel H. Lerner', u'Sneha G. Goldston', u'Brandon W. Feng', u'Alex Perler', u'Alex Cohodes', u'Alexander J. Tikalsky', u'Dong P. Doban', u'Zhengyang R. Perler', u'Ryan X. Hao', u\"Craig O'Ravichandran\", u'Abhishek P. Feng', u'Jianping Santo', u'Liwen T. Sanchez', u'David O. Liss', u'Ann U. Bathe', u'Jianping Q. Singh', u'Jerry L. Hooper', u'Amrish P. Peres', u'Joseph Hao', u'Daniel M. Lerner', u'Deepa D. Ravichandran', u'Aditya G. Choi', u'Craig R. Shi', u'Corinne McHarchwani', u'Tyler McBathe', u'Zhengyang C. Ho', u'Zhengyang D. Pennell', u'Suresh F. Lin', u'Zelos D. Perler', u'Alejandro L. Hill', u'Jaesik McHo', u'Zelos S. Jasti', u'Ryan G. Rangarajan', u'Jaesik McJohn', u'Brandon McZhu', u'Douglas H. Pennell', u'Zelos H. Feng', u'Michael W. John', u'Joseph P. Peres', u'Zelos L. Lerner', u'Antik L. Ravichandran', u'Deepa D. Harchwani', u'Tyler F. Pandey', u'Deepa Hao', u'Ann W. Saini', u'Craig Harchwani', u'Joseph P. Zaczynski', u'Alex O. Jasti', u'Ann Stanton', u'Michael Y. Kim', u'Dong J. Ravichandran', u'Jerry U. Zaczynski', u\"Joseph O'Choi\", u'Kelly Kim', u'Xias V. Singh', u'Jianping McJoseph', u'Kelly T. Ho', u'Corinne G. Shi', u'Douglas U. Avasthi', u'Kevin V. Ho', u'Zelos H. Stanton', u'Xias Hao', u'Sneha F. McHarchwani', u'Alejandro O. Ravichandran', u'Antik T. Zhu', u'Reshama K. Aiyangar', u'Zelos B. Kim', u'Joseph Rhyu', u'Douglas M. Casagrande', u'Shenglun D. Ho', u'Corinne V. Kim', u'David U. Sanchez', u'Sonal H. Casagrande', u'Dong R. Lin', u'Douglas Lerner', u'Ashwath X. Joseph', u'Abhishek L. John', u'Xias T. Rangarajan', u'Jianping B. Perler', u'Tyler Stanton', u'Deepa T. Goldston', u'Zhengyang U. Ho', u'Sebastian Q. Choi', u\"Liwen O'Cohodes\", u'Joseph Bathe', u'Kurt Saini', u'Vitalii W. Saini', u\"Craig O'Perler\", u'Reshama Cohodes', u'Aditya R. Shi', u'Ashwath L. Liss', u'Vamsee Stanton', u'Vamsee C. Goldston', u'Corinne Z. Cohodes', u'Joseph J. Cohodes', u'Jaesik O. Zaczynski', u'Kurt Q. Jasti', u'Abhishek U. Lin', u'Xias McDoban', u\"Charlotte O'Ho\", u'Alejandro E. Saini', u'Sebastian B. Sanchez', u'Vitalii Z. Kim', u'Ashwath G. Saini', u'Shenglun A. Jasti', u'Abby E. Choi', u\"Zhengyang O'Bathe\", u'Alejandro D. Perler', u'Jerry Ravichandran', u\"Vitalii O'Rangarajan\", u'Dong T. Perler', u'Tyler D. Bathe', u'Charlotte G. Feng', u'Abhishek C. Zhu', u'Smriti A. Saini', u'Zhengyang R. Feng', u'Jerry M. McHo', u'Vamsee E. Saini', u'Zelos D. Santo', u'Alex R. Singh', u'David P. Goldston', u'Abhishek M. Doban', u'Brandon R. Ho', u'Kevin K. Feng', u'Craig R. Bathe', u'Kevin K. Saini', u'Alex McGoldston', u'Amrish N. Hill', u'Dong I. Saini', u'Jianping Saini', u'Craig C. Ho', u'Sonal Q. Ho', u'Brandon V. Bhandari', u'Abby Z. Chahin', u'Zhengyang F. Goldston', u'Vamsee Hooper', u'Jianping I. George', u'Aditya Choi', u'Ashwath Aiyangar', u'Vamsee N. Goldston', u'Brandon M. Pennell', u'Alex N. Hao', u'Abby J. Harchwani', u'Shenglun L. Bathe', u'Zhengyang B. Ravichandran', u'Vitalii S. Ho', u'Zhengyang J. Hooper', u'Vamsee V. Choi', u'Antik McRangarajan', u'Deepa McSaini', u'Joseph K. Aiyangar', u'Reshama McTikalsky', u'Jerry Rhyu', u'Zhengyang C. Saat', u'Kurt Tikalsky', u'Abhishek O. Rangarajan', u'Sonal X. Pandey', u'Sonal O. Singh', u'Aditya J. Chahin', u'Smriti McPennell', u'Joseph X. Perler', u'Joseph J. Santo', u'Corinne D. Kim', u'Jerry Cedrone', u'Dong S. Rhyu', u'Michael Ravichandran', u'Kevin H. Shi', u'Kelly Cedrone', u'Hyung N. Kim', u'Shenglun McCohodes', u'Michael E. Chahin', u'Abby R. Aiyangar', u'Smriti Y. Ho', u'Jerry V. Kim', u'Vamsee S. Lin', u'Abby Lerner', u'Smriti Perler', u'Xias K. Cedrone', u'Jianping N. Hao', u'Sonal E. Bathe', u\"Amrish O'Doban\", u'Jaesik B. Goldston', u'Kevin Pennell', u'Michael A. Zaczynski', u'Abby C. Bhandari', u'Amrish Y. Tikalsky', u'Liwen K. Feng', u\"Deepa O'Rhyu\", u'Alexander C. Ho', u'Hyung U. Stanton', u'Charlotte Ho', u'Kurt D. Cedrone', u'Aditya P. Tikalsky', u'Craig S. Lin', u'Jianping F. Goldston', u'Jerry L. Shi', u'Vitalii V. Zhu', u'Xias J. Chahin', u'Abby Saini', u'Antik U. Ho', u'Shenglun McShi', u'Douglas E. John', u'Sebastian George', u'Tyler Y. George', u'Alexander B. Cedrone', u'Reshama Stanton', u'Jaesik Q. Shi', u'Sebastian Rhyu', u'Vitalii Ravichandran', u\"Daniel O'Saini\", u'Alexander I. Saini', u'Ryan T. Cedrone', u'Hyung I. Hao', u'Alexander W. Casagrande', u'Zelos I. Kim', u'Zelos T. John', u'Aditya P. Saini', u'Jerry H. Sanchez', u'Ryan J. Goldston', u'Sonal N. Kim', u'David McHo', u'Joseph McCasagrande', u'Sebastian M. Santo', u'Liwen C. Pennell', u\"Sebastian O'Singh\", u'Zelos G. Pennell', u'Kurt J. Ho', u\"Joseph O'Feng\", u'Sebastian N. Pandey', u'Antik N. Saini', u'David P. Shi', u'Zelos P. Ho', u'Kurt H. Avasthi', u'Daniel X. Perler', u'Charlotte Z. George', u'Kevin O. Aiyangar', u'Ann X. Ho', u'Daniel D. Hooper', u'Sebastian C. Feng', u'Ryan John', u'Vamsee Z. Kim', u'Jerry N. Santo', u'Kurt F. Hill', u'Amrish F. Feng', u'Michael X. Peres', u'Suresh V. Kim', u\"Michael A. O'Aiyangar\", u'Brandon Q. Peres', u'David F. Perler', u'Ann McSingh', u'Alex V. Casagrande', u'Kevin L. Bhandari', u'Daniel K. Joseph', u'Zhengyang V. Santo', u'Kevin S. Bhandari', u'Alex F. George', u'Liwen A. George', u\"Ashwath O'Ho\", u'Craig J. Chahin', u'Vitalii Saini', u'Antik Feng', u'Brandon N. Cohodes', u'Jerry J. Doban', u'Alexander B. Jasti', u'Liwen W. Perler', u'Ann F. Stanton', u'Alejandro L. Sanchez', u'Ann B. John', u'Antik D. McHo', u'Alex O. Joseph', u'Jerry F. Lerner', u'Charlotte F. Pandey', u'Alejandro Tikalsky', u\"Deepa O'Santo\", u'Joseph V. Harchwani', u'Daniel O. Bhandari', u'Douglas Lin', u'Abhishek F. Sanchez', u'Daniel P. John', u'Deepa Choi', u'Vamsee Harchwani', u'Sonal Q. Hooper', u'Daniel I. Harchwani', u'Jianping K. Sanchez', u'Daniel W. Shi', u'Suresh F. Ho', u'Alex McPeres', u'Sebastian McHao', u'Deepa G. Bhandari', u'Charlotte S. Saini', u'Jerry Z. Lerner', u'Kurt Z. Kim', u'Liwen T. Ravichandran', u'Joseph Cohodes', u'Ashwath O. Hooper', u'Zelos W. McHill', u'Joseph Ho', u'Alejandro P. Lerner', u'Xias G. Feng', u'Liwen Feng', u'Amrish B. Saini', u'Douglas J. Ho', u'Jerry J. Saini', u'Xias H. Doban', u'Sneha E. Choi', u'Aditya O. Shi', u'Brandon G. Stanton', u'Ryan W. Saini', u'Sneha K. Kim', u'Xias Y. Rangarajan', u'Dong F. Tikalsky', u'Jerry P. Shaikh', u'Jianping T. Kim', u'Craig I. Ho', u'Kurt S. Jasti', u'Jaesik Avasthi', u'Smriti R. Zaczynski', u'Dong K. Liss', u'Reshama A. Saini', u'Joseph Lin', u'Alejandro R. Bathe', u'Corinne H. Aiyangar', u'Ann J. Aiyangar', u\"Ann O'Avasthi\", u'Suresh Shi', u'Abhishek O. Doban', u'Ann G. Choi', u'Hyung Z. Pandey', u'Corinne T. Ravichandran', u'Reshama F. Avasthi', u'Alex E. Hill', u'Amrish J. Feng', u'Antik S. Bathe', u'Deepa V. Cedrone', u'Alexander McHo', u\"Liwen O'Shaikh\", u'Jianping T. Choi', u'Smriti V. Pandey', u'Vamsee W. Singh', u'Brandon B. Jasti', u'Dong Z. Liss', u'Kevin Kim', u'Jaesik Saini', u'Sebastian R. Feng', u'Reshama McHo', u'Antik N. Santo', u'Douglas Y. Cohodes', u'Zelos K. Bhandari', u'Reshama A. Stanton', u'Deepa Lin', u'Ryan Pennell', u'Zelos Cohodes', u'Tyler Rangarajan', u'Jianping Z. Perler', u'Jerry Q. Cohodes', u\"Reshama O'Kim\", u'Xias O. Ravichandran', u'Zelos N. Cohodes', u\"Kelly O'Jasti\", u'Kevin X. Zaczynski', u'Abhishek Cedrone', u'Jerry B. Saini', u'Aditya U. Ho', u'Vitalii Cohodes', u'Joseph C. Tikalsky', u'Jianping B. Tikalsky', u'Dong T. Lin', u'Zelos T. Peres', u'Daniel U. Lin', u'Sebastian Y. Zaczynski', u'Douglas N. Feng', u'Zhengyang J. Peres', u'Jaesik Casagrande', u'Dong B. Saini', u'Vitalii S. Hooper', u'Aditya McJoseph', u'Kurt Cohodes', u'Douglas Q. Hooper', u'Dong W. Tikalsky', u'Abhishek Liss', u'Alexander B. Casagrande', u'Vamsee W. Chahin', u'Alejandro B. Ho', u'Zelos Perler', u'Michael V. Perler', u'Michael H. Casagrande', u'Abby Z. Pennell', u'Corinne Q. Saini', u'Douglas Q. Rhyu', u'Brandon W. Peres', u'Reshama M. Shi', u'Alexander V. Cedrone', u'Joseph S. Harchwani', u'Vamsee R. John', u'Vamsee Y. Chahin', u'Alex Zaczynski', u'Ann Y. Pennell', u'Vamsee P. Rangarajan', u'Antik B. Chahin', u'Xias Lerner', u'Jaesik D. Harchwani', u'Dong N. Hill', u\"Dong O'Stanton\", u'Vamsee T. Pennell', u'Zhengyang F. Ho', u'Tyler Ravichandran', u'Charlotte Santo', u'Dong T. Joseph', u'Ryan Saini', u'Suresh Y. George', u'Sebastian W. Lerner', u'Tyler Z. Saini', u'Brandon U. Cohodes', u'Brandon U. Ho', u'Ryan Y. Ho', u'Suresh L. Avasthi', u'Kelly Choi', u'Brandon A. Ravichandran', u'Charlotte A. Cedrone', u'Sonal Stanton', u'Kurt A. Tikalsky', u'Kurt J. Stanton', u'Michael McGeorge', u\"Xias O'Peres\", u'Brandon Choi', u'Daniel Saini', u'Amrish L. Bathe', u'Daniel P. Ho', u'Kurt T. Ravichandran', u'Alejandro Aiyangar', u'Tyler Rhyu', u'Joseph W. Goldston', u'Ryan B. Ho', u'Ann A. Kim', u'Alex Pennell', u\"Craig O'Zaczynski\", u'Aditya McGeorge', u'Jianping H. Hooper', u'Sonal N. Feng', u'Antik X. Saat', u'Antik E. George', u'Ann Chahin', u'Liwen H. Joseph', u'Ryan X. Shi', u'Deepa D. Sanchez', u'Vamsee A. Santo', u'Abhishek P. Ravichandran', u'Michael Shaikh', u'Daniel A. Cohodes', u'Smriti J. Kim', u'Ryan George', u'Vamsee Cohodes', u'Hyung V. Lerner', u'David K. Doban', u'Alexander R. Feng', u'Joseph P. Liss', u'Liwen Rangarajan', u'Vitalii Jasti', u'Xias C. Bathe', u'Kelly O. Doban', u'Aditya A. Zaczynski', u'Corinne H. Shaikh', u'Reshama O. Harchwani', u\"Jerry O'Doban\", u'Jaesik E. Saini', u'Jianping G. Cohodes', u'Kevin M. Stanton', u'Alex F. Sanchez', u'Shenglun I. Sanchez', u'Jaesik R. Kim', u'Daniel A. Joseph', u'Dong G. Avasthi', u'Xias H. Jasti', u'Kevin Harchwani', u'Zhengyang J. Avasthi', u'Ann U. Kim', u\"Suresh V. O'Liss\", u\"Alex O'Lerner\", u'Vitalii S. Cohodes', u'Xias McKim', u'Dong Zaczynski', u'Hyung V. Casagrande', u'David Peres', u'Liwen F. Cedrone', u'Jerry Casagrande', u'Hyung L. Cedrone', u\"Jianping O'Sanchez\", u'Smriti K. Peres', u'Vitalii C. Ho', u'Reshama I. Sanchez', u'Alexander Harchwani', u'Kevin C. Kim', u'Ryan M. Liss', u'Kevin F. Kim', u'Daniel U. Cohodes', u'Abby L. Shi', u'Craig K. Peres', u'Amrish D. Santo', u'Reshama O. Sanchez', u'Ryan Liss', u'Shenglun A. Perler', u'Sebastian T. Bhandari', u'Sonal Avasthi', u'David E. George', u'Douglas K. Singh', u'Aditya Q. Kim', u'Alejandro A. Choi', u'Suresh K. Harchwani', u'Aditya Cohodes', u'Shenglun Q. Casagrande', u'Ryan I. Choi', u'Xias J. Harchwani', u'Sneha S. Choi', u'Aditya W. Perler', u'Alex U. Santo', u'Corinne Zhu', u'Sneha K. Hao', u'Abhishek McHo', u'Aditya McBathe', u'Kevin Z. Hao', u'Sebastian G. Kim', u'Joseph K. Hill', u'Kurt D. Sanchez', u'Sebastian Pennell', u'Kurt O. Ho', u'Vamsee M. Singh', u'Sebastian H. Ravichandran', u'Corinne L. Feng', u'Shenglun P. John', u'Smriti D. Hao', u'Sneha M. Peres', u'Abhishek M. Chahin', u'Craig N. Stanton', u'Kevin McJohn', u'Abby X. Liss', u'Xias McHao', u'Kevin Sanchez', u'Xias Singh', u'Daniel C. Ravichandran', u'Vamsee Sanchez', u'Hyung L. John', u'Antik B. Ravichandran', u'Antik X. Hill', u'Dong D. John', u'Daniel Goldston', u'Sonal E. Hao', u'Sebastian R. Choi', u'Joseph Y. Kim', u'Kelly Bhandari', u'Liwen G. Ho', u'Alex E. Zaczynski', u'Alejandro Q. Santo', u'Tyler L. Doban', u'Daniel T. Kim', u'Hyung O. Cohodes', u'Antik H. Santo', u\"Kurt M. O'Ho\", u'Daniel L. Ho', u\"David O'Kim\", u'Michael J. George', u'Brandon Santo', u'Sebastian E. Stanton', u'Vitalii C. Lin', u'Xias D. Avasthi', u'Vitalii R. Shaikh', u'Xias C. Saat', u'Suresh Lin', u'Abhishek Ho', u'Zhengyang A. Jasti', u'Antik X. Saini', u\"Amrish O'Saini\", u'Alex McPerler', u\"Brandon O'Saini\", u'Joseph C. Lerner', u'Alejandro P. Rangarajan', u'Ann N. Bathe', u'Smriti I. Lerner', u'Vitalii Hooper', u'Zhengyang S. Avasthi', u'Liwen U. Lin', u'Dong G. Zaczynski', u'Alejandro Q. Saini', u\"Tyler O'Hooper\", u'Daniel C. Harchwani', u'Kevin G. Sanchez', u'Alexander Q. Ho', u'Shenglun A. Harchwani', u'Charlotte W. Hao', u'Ashwath B. Lin', u'Corinne W. Shaikh', u'Zhengyang A. Rangarajan', u'Jaesik C. Rangarajan', u'Alex McPennell', u'Alexander McJoseph', u'Xias W. Goldston', u'Shenglun Zaczynski', u'Kurt Feng', u'Vitalii F. Santo', u'Joseph N. George', u'Liwen Y. Sanchez', u'Shenglun K. Hill', u'Xias A. Harchwani', u'Zelos M. Saat', u'Sebastian G. Chahin', u'Alex B. Hao', u'Ann V. John', u'Vitalii P. Kim', u'Kurt R. Perler', u'Craig Z. Singh', u'Zhengyang M. Zhu', u'Kevin A. Joseph', u'David R. Harchwani', u'Sonal D. Sanchez', u'Sneha Hao', u'Tyler C. Saat', u'Zelos N. Casagrande', u'Aditya F. Cedrone', u'Shenglun Q. Feng', u'Zhengyang Y. Doban', u'Vamsee M. Choi', u'Daniel P. Hill', u'Liwen L. Shi', u'Xias Saini', u'Ashwath Ho', u'Brandon B. Ho', u'Abby J. John', u'Sonal X. Liss', u'Brandon F. Goldston', u'Douglas A. Tikalsky', u'Shenglun Stanton', u'Jerry I. Bathe', u'Kevin V. Bathe', u'Xias C. Lerner', u'Alejandro G. John', u'Jianping M. Joseph', u'Jaesik D. Rhyu', u'David L. Tikalsky', u'Charlotte Y. Hill', u'Sneha Lin', u'Liwen George', u'Sonal M. Cedrone', u'Hyung U. Bhandari', u'Shenglun F. Hao', u'Amrish M. Doban', u'Sebastian Cohodes', u'Amrish George', u'David Choi', u'Daniel K. Cohodes', u'Jaesik U. Kim', u'Reshama Y. Hao', u'Daniel L. Harchwani', u'Hyung J. Ho', u'Suresh L. Ravichandran', u'Liwen A. Pennell', u'Kurt K. Ravichandran', u'Vitalii A. Saini', u'Sneha W. Perler', u'Sebastian A. Doban', u'Craig K. Rangarajan', u'Alexander A. Hill', u'Jerry N. Kim', u'Alexander F. Cohodes', u'Douglas F. Santo', u'Dong L. Jasti']\n"
       ]
      }
     ],
     "prompt_number": 25
    },
    {
     "cell_type": "markdown",
     "metadata": {},
     "source": [
      "Question C"
     ]
    },
    {
     "cell_type": "code",
     "collapsed": false,
     "input": [
      "print 'There are %s instances of lines that contain the bad value of -9999.' % TrackBad "
     ],
     "language": "python",
     "metadata": {},
     "outputs": [
      {
       "output_type": "stream",
       "stream": "stdout",
       "text": [
        "There are 3 instances of lines that contain the bad value of -9999.\n"
       ]
      }
     ],
     "prompt_number": 26
    },
    {
     "cell_type": "markdown",
     "metadata": {},
     "source": [
      "Question D"
     ]
    },
    {
     "cell_type": "code",
     "collapsed": false,
     "input": [
      "print RFA_2F\n",
      "print RFA_2A      \n",
      "print 'WEALTH_INDEX takes a decimal number'"
     ],
     "language": "python",
     "metadata": {},
     "outputs": [
      {
       "output_type": "stream",
       "stream": "stdout",
       "text": [
        "{1: 12530, 2: 8134, 3: 7367, 4: 7241}\n",
        "{u'E': 12884, u'D': 5074, u'G': 5125, u'F': 12189}\n",
        "WEALTH_INDEX takes a decimal number\n"
       ]
      }
     ],
     "prompt_number": 27
    },
    {
     "cell_type": "markdown",
     "metadata": {},
     "source": [
      "Question E"
     ]
    },
    {
     "cell_type": "code",
     "collapsed": false,
     "input": [
      "print 'Porportion of people that responded is: %s' % (responded / (len(data) - len(dupe)))"
     ],
     "language": "python",
     "metadata": {},
     "outputs": [
      {
       "output_type": "stream",
       "stream": "stdout",
       "text": [
        "Porportion of people that responded is: 0.0662993298585\n"
       ]
      }
     ],
     "prompt_number": 28
    },
    {
     "cell_type": "markdown",
     "metadata": {},
     "source": [
      "Question F"
     ]
    },
    {
     "cell_type": "raw",
     "metadata": {},
     "source": [
      "The difference in distribution of wealth between responders and non-responders is that the responders tend to be more distributed across the wealth index"
     ]
    },
    {
     "cell_type": "markdown",
     "metadata": {},
     "source": [
      "Question G"
     ]
    },
    {
     "cell_type": "code",
     "collapsed": false,
     "input": [
      "plt.hist(RespondedWealth, bins = 10, histtype='step', stacked=True, normed=True, color='blue')\n",
      "plt.hist(NotRespondedWealth, bins = 10, histtype='step', stacked = True, normed = True, color = 'green')\n",
      "\n",
      "plt.show()\n",
      "\n",
      "plt.hist(RespondedWealth, bins = 10, histtype='step', stacked=True, color='blue')\n",
      "plt.hist(NotRespondedWealth, bins = 10, histtype='step', stacked = True, color='green')\n",
      "\n",
      "plt.show()\n",
      "\n",
      "print 'The distribution of the wealth is easier to see using percents. This is because the number of people that responded \\\n",
      "is so much smaller than the number of people that did not respond so it makes it almost impossible to see the distribution \\\n",
      "wealth among the responders.'"
     ],
     "language": "python",
     "metadata": {},
     "outputs": [
      {
       "metadata": {},
       "output_type": "display_data",
       "png": "[encoded data removed]",
       "text": [
        "<matplotlib.figure.Figure at 0xb04c978>"
       ]
      },
      {
       "metadata": {},
       "output_type": "display_data",
       "png": "[encoded data removed]",
       "text": [
        "<matplotlib.figure.Figure at 0x8c4f080>"
       ]
      },
      {
       "output_type": "stream",
       "stream": "stdout",
       "text": [
        "The distribution of the wealth is easier to see using percents. This is because the number of people that responded is so much smaller than the number of people that did not respond so it makes it almost impossible to see the distribution wealth among the responders.\n"
       ]
      }
     ],
     "prompt_number": 29
    },
    {
     "cell_type": "markdown",
     "metadata": {},
     "source": [
      "Question H"
     ]
    },
    {
     "cell_type": "code",
     "collapsed": false,
     "input": [
      "names.sort()\n",
      "print 'Alphabetized first names 1-10: ', names[1:10]\n",
      "print 'Alphabetized first names 20,000-20,010: ', names[20000:20010]"
     ],
     "language": "python",
     "metadata": {},
     "outputs": [
      {
       "output_type": "stream",
       "stream": "stdout",
       "text": [
        "Alphabetized first names 1-10:  [u'Abby A. Casagrande Sr.', u'Abby A. Cedrone', u'Abby A. Choi', u'Abby A. Cohodes', u'Abby A. Feng Jr.', u'Abby A. George', u'Abby A. Harchwani', u'Abby A. Hooper', u'Abby A. Lerner Sr.']\n",
        "Alphabetized first names 20,000-20,010:  [u'Kevin McPeres', u'Kevin McPerler', u'Kevin McRangarajan Sr.', u'Kevin McSanchez III', u'Kevin McSanto', u'Kevin McShi', u'Kevin McSingh Jr.', u'Kevin McStanton', u'Kevin McZaczynski', u'Kevin McZaczynski Sr.']\n"
       ]
      }
     ],
     "prompt_number": 30
    },
    {
     "cell_type": "markdown",
     "metadata": {},
     "source": [
      "Question I"
     ]
    },
    {
     "cell_type": "code",
     "collapsed": false,
     "input": [
      "# alphabetize by last names algorithm\n",
      "# The algorithim works by first splitting up each name into a list. It then determines if the person has a middle name\n",
      "# by detecting a '.' within the name. Then it detects if the user has a suffix (eg: III or Sr.) to add to the name\n",
      "for item in names:\n",
      "    full = item.split()\n",
      "    if full[1].find('.') == -1:   #if -1 then it's last name. if greater than -1 then it's middle name\n",
      "        name = full[1] + ', ' + full[0]\n",
      "        if len(full) == 3:\n",
      "            name += ' ' + full[2]\n",
      "            LastName.append(name)\n",
      "        else:\n",
      "            LastName.append(name)\n",
      "    else:\n",
      "        name = full[2] + ', ' + full[0] + ' ' + full[1]\n",
      "        if len(full) == 4:\n",
      "            name += ' ' + full[3]\n",
      "            LastName.append(name)\n",
      "        else:\n",
      "            LastName.append(name)\n",
      "LastName.sort()\n",
      "\n",
      "print 'Alphabetized last names 1-10: ', LastName[1:10]\n",
      "print 'Alphabetized last names 20,000-20,010: ', LastName[20000:20010]"
     ],
     "language": "python",
     "metadata": {},
     "outputs": [
      {
       "output_type": "stream",
       "stream": "stdout",
       "text": [
        "Alphabetized last names 1-10:  [u'Aiyangar, Abby D. Jr.', u'Aiyangar, Abby E.', u'Aiyangar, Abby G. Sr.', u'Aiyangar, Abby III', u'Aiyangar, Abby Jr.', u'Aiyangar, Abby K.', u'Aiyangar, Abby M. III', u'Aiyangar, Abby O.', u'Aiyangar, Abby Q.']\n",
        "Alphabetized last names 20,000-20,010:  [u\"O'Feng, Smriti O.\", u\"O'Feng, Smriti R.\", u\"O'Feng, Sneha T.\", u\"O'Feng, Suresh A.\", u\"O'Feng, Suresh C.\", u\"O'Feng, Tyler X.\", u\"O'Feng, Vamsee A.\", u\"O'Feng, Vamsee J.\", u\"O'Feng, Vamsee N.\", u\"O'Feng, Vitalii A.\"]\n"
       ]
      }
     ],
     "prompt_number": 31
    },
    {
     "cell_type": "markdown",
     "metadata": {},
     "source": [
      "Question J"
     ]
    },
    {
     "cell_type": "code",
     "collapsed": false,
     "input": [
      "#-40 + 0.8*WEALTH_INDEX + 0.12*RFA_2F\n",
      "\n",
      "for person in range(0, len(data)):\n",
      "    first = data[person]['WEALTH_INDEX']\n",
      "    second = data[person]['RFA_2F']\n",
      "    num = -40 + .8 * first + .12 * second\n",
      "    number[data[person]['NAME']] = num\n",
      "\n",
      "TopTen = dict_nlargest(number, 10)\n",
      "\n",
      "for place in range(0, 10):\n",
      "    print TopTen[place], ':', number[TopTen[place]]\n",
      "    \n",
      "#plt.hist(number.values(), bins = 10, histtype='step', stacked=True, color='blue')\n",
      "#plt.show()"
     ],
     "language": "python",
     "metadata": {},
     "outputs": [
      {
       "output_type": "stream",
       "stream": "stdout",
       "text": [
        "Kevin E. Zaczynski : 40.36\n",
        "Kevin J. Sanchez : 40.104\n",
        "Joseph I. Shaikh : 39.384\n",
        "Corinne D. Doban III : 39.36\n",
        "Douglas G. Kim Jr. : 39.296\n",
        "Tyler X. Kim Sr. : 39.088\n",
        "Vitalii U. Hill : 39.08\n",
        "Zhengyang E. McSanchez : 39.04\n",
        "Douglas Q. Goldston : 38.992\n",
        "Ryan E. Singh : 38.808\n"
       ]
      }
     ],
     "prompt_number": 32
    }
   ],
   "metadata": {}
  }
 ]
}